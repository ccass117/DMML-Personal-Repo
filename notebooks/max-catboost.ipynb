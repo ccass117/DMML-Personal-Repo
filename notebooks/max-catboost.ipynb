{
 "cells": [
  {
   "cell_type": "code",
   "execution_count": 1,
   "metadata": {},
   "outputs": [
    {
     "name": "stdout",
     "output_type": "stream",
     "text": [
      "Note: you may need to restart the kernel to use updated packages.\n"
     ]
    },
    {
     "name": "stderr",
     "output_type": "stream",
     "text": [
      "'grep' is not recognized as an internal or external command,\n",
      "operable program or batch file.\n"
     ]
    },
    {
     "name": "stdout",
     "output_type": "stream",
     "text": [
      "Defaulting to user installation because normal site-packages is not writeableNote: you may need to restart the kernel to use updated packages.\n",
      "\n",
      "Requirement already satisfied: catboost in c:\\users\\maxfe\\appdata\\roaming\\python\\python312\\site-packages (1.2.7)\n",
      "Requirement already satisfied: graphviz in c:\\users\\maxfe\\appdata\\roaming\\python\\python312\\site-packages (from catboost) (0.20.3)\n",
      "Requirement already satisfied: matplotlib in c:\\programdata\\anaconda3\\lib\\site-packages (from catboost) (3.8.4)\n",
      "Requirement already satisfied: numpy<2.0,>=1.16.0 in c:\\programdata\\anaconda3\\lib\\site-packages (from catboost) (1.26.4)\n",
      "Requirement already satisfied: pandas>=0.24 in c:\\programdata\\anaconda3\\lib\\site-packages (from catboost) (2.2.2)\n",
      "Requirement already satisfied: scipy in c:\\programdata\\anaconda3\\lib\\site-packages (from catboost) (1.13.1)\n",
      "Requirement already satisfied: plotly in c:\\programdata\\anaconda3\\lib\\site-packages (from catboost) (5.22.0)\n",
      "Requirement already satisfied: six in c:\\programdata\\anaconda3\\lib\\site-packages (from catboost) (1.16.0)\n",
      "Requirement already satisfied: python-dateutil>=2.8.2 in c:\\programdata\\anaconda3\\lib\\site-packages (from pandas>=0.24->catboost) (2.9.0.post0)\n",
      "Requirement already satisfied: pytz>=2020.1 in c:\\programdata\\anaconda3\\lib\\site-packages (from pandas>=0.24->catboost) (2024.1)\n",
      "Requirement already satisfied: tzdata>=2022.7 in c:\\programdata\\anaconda3\\lib\\site-packages (from pandas>=0.24->catboost) (2023.3)\n",
      "Requirement already satisfied: contourpy>=1.0.1 in c:\\programdata\\anaconda3\\lib\\site-packages (from matplotlib->catboost) (1.2.0)\n",
      "Requirement already satisfied: cycler>=0.10 in c:\\programdata\\anaconda3\\lib\\site-packages (from matplotlib->catboost) (0.11.0)\n",
      "Requirement already satisfied: fonttools>=4.22.0 in c:\\programdata\\anaconda3\\lib\\site-packages (from matplotlib->catboost) (4.51.0)\n",
      "Requirement already satisfied: kiwisolver>=1.3.1 in c:\\programdata\\anaconda3\\lib\\site-packages (from matplotlib->catboost) (1.4.4)\n",
      "Requirement already satisfied: packaging>=20.0 in c:\\programdata\\anaconda3\\lib\\site-packages (from matplotlib->catboost) (23.2)\n",
      "Requirement already satisfied: pillow>=8 in c:\\programdata\\anaconda3\\lib\\site-packages (from matplotlib->catboost) (10.3.0)\n",
      "Requirement already satisfied: pyparsing>=2.3.1 in c:\\programdata\\anaconda3\\lib\\site-packages (from matplotlib->catboost) (3.0.9)\n",
      "Requirement already satisfied: tenacity>=6.2.0 in c:\\programdata\\anaconda3\\lib\\site-packages (from plotly->catboost) (8.2.2)\n"
     ]
    }
   ],
   "source": [
    "%pip list | grep catboost\n",
    "%pip install catboost --upgrade\n"
   ]
  },
  {
   "cell_type": "code",
   "execution_count": null,
   "metadata": {},
   "outputs": [
    {
     "name": "stdout",
     "output_type": "stream",
     "text": [
      "Columns in dataframe: Index(['HP', 'Attack', 'Defense', 'Special\\nAttack', 'Special\\nDefense',\n",
      "       'Speed', 'Total', 'Ability I', 'Ability II', 'Hidden Ability',\n",
      "       'Weight (kg)', 'Height (m)', 'Pokedex Color', 'Egg Group I',\n",
      "       'Egg Group II'],\n",
      "      dtype='object')\n"
     ]
    },
    {
     "name": "stderr",
     "output_type": "stream",
     "text": [
      "C:\\Users\\maxfe\\AppData\\Local\\Temp\\ipykernel_89328\\4019455712.py:17: SettingWithCopyWarning: \n",
      "A value is trying to be set on a copy of a slice from a DataFrame\n",
      "\n",
      "See the caveats in the documentation: https://pandas.pydata.org/pandas-docs/stable/user_guide/indexing.html#returning-a-view-versus-a-copy\n",
      "  y.fillna('Unknown', inplace=True)\n"
     ]
    },
    {
     "data": {
      "application/vnd.jupyter.widget-view+json": {
       "model_id": "6a3a27d1077d44dcb75e62c380eeae76",
       "version_major": 2,
       "version_minor": 0
      },
      "text/plain": [
       "MetricVisualizer(layout=Layout(align_self='stretch', height='500px'))"
      ]
     },
     "metadata": {},
     "output_type": "display_data"
    },
    {
     "name": "stdout",
     "output_type": "stream",
     "text": [
      "Training on fold [0/10]\n"
     ]
    },
    {
     "ename": "CatBoostError",
     "evalue": "catboost/libs/train_lib/cross_validation.cpp:629: Cannot do stratified split: Target data is multi-dimensional",
     "output_type": "error",
     "traceback": [
      "\u001b[1;31m---------------------------------------------------------------------------\u001b[0m",
      "\u001b[1;31mCatBoostError\u001b[0m                             Traceback (most recent call last)",
      "Cell \u001b[1;32mIn[14], line 37\u001b[0m\n\u001b[0;32m     35\u001b[0m \u001b[38;5;66;03m# Perform k-fold cross-validation\u001b[39;00m\n\u001b[0;32m     36\u001b[0m cv_params \u001b[38;5;241m=\u001b[39m model\u001b[38;5;241m.\u001b[39mget_params()\n\u001b[1;32m---> 37\u001b[0m cv_data \u001b[38;5;241m=\u001b[39m cv(\n\u001b[0;32m     38\u001b[0m     Pool(X, y, cat_features\u001b[38;5;241m=\u001b[39mcategorical_cols),\n\u001b[0;32m     39\u001b[0m     cv_params,\n\u001b[0;32m     40\u001b[0m     fold_count\u001b[38;5;241m=\u001b[39m\u001b[38;5;241m10\u001b[39m,\n\u001b[0;32m     41\u001b[0m     plot\u001b[38;5;241m=\u001b[39m\u001b[38;5;28;01mTrue\u001b[39;00m\n\u001b[0;32m     42\u001b[0m )\n\u001b[0;32m     44\u001b[0m \u001b[38;5;66;03m# Train the model\u001b[39;00m\n\u001b[0;32m     45\u001b[0m model\u001b[38;5;241m.\u001b[39mfit(train_pool, eval_set\u001b[38;5;241m=\u001b[39mtest_pool, verbose\u001b[38;5;241m=\u001b[39m\u001b[38;5;241m100\u001b[39m)\n",
      "File \u001b[1;32m~\\AppData\\Roaming\\Python\\Python312\\site-packages\\catboost\\core.py:6980\u001b[0m, in \u001b[0;36mcv\u001b[1;34m(pool, params, dtrain, iterations, num_boost_round, fold_count, nfold, inverted, partition_random_seed, seed, shuffle, logging_level, stratified, as_pandas, metric_period, verbose, verbose_eval, plot, plot_file, early_stopping_rounds, save_snapshot, snapshot_file, snapshot_interval, metric_update_interval, folds, type, return_models, log_cout, log_cerr)\u001b[0m\n\u001b[0;32m   6978\u001b[0m \u001b[38;5;28;01mwith\u001b[39;00m log_fixup(log_cout, log_cerr), plot_wrapper(plot, plot_file\u001b[38;5;241m=\u001b[39mplot_file, plot_title\u001b[38;5;241m=\u001b[39m\u001b[38;5;124m'\u001b[39m\u001b[38;5;124mCross-validation plot\u001b[39m\u001b[38;5;124m'\u001b[39m, train_dirs\u001b[38;5;241m=\u001b[39mplot_dirs):\n\u001b[0;32m   6979\u001b[0m     \u001b[38;5;28;01mif\u001b[39;00m \u001b[38;5;129;01mnot\u001b[39;00m return_models:\n\u001b[1;32m-> 6980\u001b[0m         \u001b[38;5;28;01mreturn\u001b[39;00m _cv(\n\u001b[0;32m   6981\u001b[0m             params,\n\u001b[0;32m   6982\u001b[0m             pool,\n\u001b[0;32m   6983\u001b[0m             fold_count,\n\u001b[0;32m   6984\u001b[0m             inverted,\n\u001b[0;32m   6985\u001b[0m             partition_random_seed,\n\u001b[0;32m   6986\u001b[0m             shuffle,\n\u001b[0;32m   6987\u001b[0m             stratified,\n\u001b[0;32m   6988\u001b[0m             metric_update_interval,\n\u001b[0;32m   6989\u001b[0m             as_pandas,\n\u001b[0;32m   6990\u001b[0m             folds,\n\u001b[0;32m   6991\u001b[0m             \u001b[38;5;28mtype\u001b[39m,\n\u001b[0;32m   6992\u001b[0m             return_models\n\u001b[0;32m   6993\u001b[0m         )\n\u001b[0;32m   6994\u001b[0m     \u001b[38;5;28;01melse\u001b[39;00m:\n\u001b[0;32m   6995\u001b[0m         results, cv_models \u001b[38;5;241m=\u001b[39m _cv(\n\u001b[0;32m   6996\u001b[0m             params,\n\u001b[0;32m   6997\u001b[0m             pool,\n\u001b[1;32m   (...)\u001b[0m\n\u001b[0;32m   7007\u001b[0m             return_models\n\u001b[0;32m   7008\u001b[0m         )\n",
      "File \u001b[1;32m_catboost.pyx:5880\u001b[0m, in \u001b[0;36m_catboost._cv\u001b[1;34m()\u001b[0m\n",
      "File \u001b[1;32m_catboost.pyx:5912\u001b[0m, in \u001b[0;36m_catboost._cv\u001b[1;34m()\u001b[0m\n",
      "\u001b[1;31mCatBoostError\u001b[0m: catboost/libs/train_lib/cross_validation.cpp:629: Cannot do stratified split: Target data is multi-dimensional"
     ]
    }
   ],
   "source": [
    "import pandas as pd\n",
    "from catboost import CatBoostClassifier, Pool, cv\n",
    "from sklearn.model_selection import train_test_split\n",
    "\n",
    "# Load the data\n",
    "data_path = \"../data/[FINAL] National Pokedex Gen 9.xlsx - Pokedex.csv\"\n",
    "pokemon_df = pd.read_csv(data_path)\n",
    "\n",
    "# Preprocess the data\n",
    "# Drop unnecessary columns\n",
    "columns_to_drop = ['National\\nDex', 'Type I', 'Type II', 'Pokemon\\nName', 'Pokedex Desc']\n",
    "X = pokemon_df.drop(columns=[col for col in columns_to_drop if col in pokemon_df.columns])\n",
    "y = pokemon_df[['Type I', 'Type II']]\n",
    "\n",
    "# Handle missing values\n",
    "X.fillna('Unknown', inplace=True)\n",
    "y.fillna('Unknown', inplace=True)\n",
    "\n",
    "# Concatenate target columns into a single column\n",
    "y['Combined'] = y.apply(lambda row: '_'.join(row.values.astype(str)), axis=1)\n",
    "y_combined = y['Combined']\n",
    "\n",
    "# Split the data into training and test sets\n",
    "X_train, X_test, y_train, y_test = train_test_split(X, y_combined, test_size=0.2, random_state=42)\n",
    "\n",
    "# Print the column names to check which columns are available\n",
    "print(\"Columns in dataframe:\", X.columns)\n",
    "\n",
    "# Define categorical features (update this list based on the actual columns in the dataframe)\n",
    "categorical_cols = ['Ability I', 'Ability II', 'Hidden Ability', 'Pokedex Color', 'Egg Group I', 'Egg Group II']\n",
    "\n",
    "# Initialize CatBoostClassifier\n",
    "model = CatBoostClassifier(iterations=1000, depth=6, learning_rate=0.1, loss_function='MultiClass', eval_metric='MultiClass')\n",
    "\n",
    "# Perform k-fold cross-validation\n",
    "cv_params = model.get_params()\n",
    "cv_data = cv(\n",
    "    Pool(X, y_combined, cat_features=categorical_cols),\n",
    "    cv_params,\n",
    "    fold_count=10,\n",
    "    plot=True\n",
    ")\n",
    "\n",
    "# Train the model\n",
    "model.fit(train_pool, eval_set=test_pool, verbose=100)\n",
    "\n",
    "# Predict probabilities\n",
    "predictions = model.predict_proba(test_pool)\n",
    "print(predictions)"
   ]
  },
  {
   "cell_type": "code",
   "execution_count": null,
   "metadata": {},
   "outputs": [],
   "source": []
  }
 ],
 "metadata": {
  "kernelspec": {
   "display_name": "base",
   "language": "python",
   "name": "python3"
  },
  "language_info": {
   "codemirror_mode": {
    "name": "ipython",
    "version": 3
   },
   "file_extension": ".py",
   "mimetype": "text/x-python",
   "name": "python",
   "nbconvert_exporter": "python",
   "pygments_lexer": "ipython3",
   "version": "3.12.3"
  }
 },
 "nbformat": 4,
 "nbformat_minor": 2
}
